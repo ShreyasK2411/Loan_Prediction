{
  "cells": [
    {
      "cell_type": "code",
      "source": [
        "!pip3 install pyspark"
      ],
      "metadata": {
        "colab": {
          "base_uri": "https://localhost:8080/"
        },
        "id": "G7jQetfEmTfD",
        "outputId": "8efae218-d675-4423-ae18-c11d3a7ab858"
      },
      "id": "G7jQetfEmTfD",
      "execution_count": null,
      "outputs": [
        {
          "output_type": "stream",
          "name": "stdout",
          "text": [
            "Looking in indexes: https://pypi.org/simple, https://us-python.pkg.dev/colab-wheels/public/simple/\n",
            "Collecting pyspark\n",
            "  Downloading pyspark-3.3.2.tar.gz (281.4 MB)\n",
            "\u001b[2K     \u001b[90m━━━━━━━━━━━━━━━━━━━━━━━━━━━━━━━━━━━━━━━\u001b[0m \u001b[32m281.4/281.4 MB\u001b[0m \u001b[31m4.3 MB/s\u001b[0m eta \u001b[36m0:00:00\u001b[0m\n",
            "\u001b[?25h  Preparing metadata (setup.py) ... \u001b[?25l\u001b[?25hdone\n",
            "Collecting py4j==0.10.9.5\n",
            "  Downloading py4j-0.10.9.5-py2.py3-none-any.whl (199 kB)\n",
            "\u001b[2K     \u001b[90m━━━━━━━━━━━━━━━━━━━━━━━━━━━━━━━━━━━━━━\u001b[0m \u001b[32m199.7/199.7 KB\u001b[0m \u001b[31m20.2 MB/s\u001b[0m eta \u001b[36m0:00:00\u001b[0m\n",
            "\u001b[?25hBuilding wheels for collected packages: pyspark\n",
            "  Building wheel for pyspark (setup.py) ... \u001b[?25l\u001b[?25hdone\n",
            "  Created wheel for pyspark: filename=pyspark-3.3.2-py2.py3-none-any.whl size=281824025 sha256=bdb0a8cdf2da6401d9241cbeae387e358afa5adf30942beb9ee43b7308d5b289\n",
            "  Stored in directory: /root/.cache/pip/wheels/6c/e3/9b/0525ce8a69478916513509d43693511463c6468db0de237c86\n",
            "Successfully built pyspark\n",
            "Installing collected packages: py4j, pyspark\n",
            "Successfully installed py4j-0.10.9.5 pyspark-3.3.2\n"
          ]
        }
      ]
    },
    {
      "cell_type": "code",
      "execution_count": null,
      "id": "5968e176",
      "metadata": {
        "id": "5968e176"
      },
      "outputs": [],
      "source": [
        "from pyspark.sql import SparkSession\n",
        "spark = SparkSession.builder.appName(\"EDA\")\\\n",
        ".config(\"spark.driver.maxResultSize\",\"4g\")\\\n",
        ".getOrCreate()\n",
        "\n",
        "sc = spark.sparkContext"
      ]
    },
    {
      "cell_type": "code",
      "source": [
        "from google.colab import drive\n",
        "drive.mount('/content/drive/')"
      ],
      "metadata": {
        "colab": {
          "base_uri": "https://localhost:8080/"
        },
        "id": "L2ktzKFVmyvl",
        "outputId": "2a0ac7e7-fe69-483d-c39e-802019c3d8a2"
      },
      "id": "L2ktzKFVmyvl",
      "execution_count": null,
      "outputs": [
        {
          "output_type": "stream",
          "name": "stdout",
          "text": [
            "Mounted at /content/drive/\n"
          ]
        }
      ]
    },
    {
      "cell_type": "code",
      "source": [
        "!unzip /content/drive/MyDrive/Colab\\ Notebooks/alfabattle2_train_transactions_contest.zip"
      ],
      "metadata": {
        "colab": {
          "base_uri": "https://localhost:8080/"
        },
        "id": "V-blZ2h3m1ke",
        "outputId": "94c39906-4d27-4931-9ae3-1d5c7a16835c"
      },
      "id": "V-blZ2h3m1ke",
      "execution_count": null,
      "outputs": [
        {
          "output_type": "stream",
          "name": "stdout",
          "text": [
            "Archive:  /content/drive/MyDrive/Colab Notebooks/alfabattle2_train_transactions_contest.zip\n",
            " extracting: alfabattle2_train_transactions_contest/.Rhistory  \n",
            "  inflating: alfabattle2_train_transactions_contest/part_000_0_to_23646.parquet  \n",
            "  inflating: alfabattle2_train_transactions_contest/part_001_23647_to_47415.parquet  \n",
            "  inflating: alfabattle2_train_transactions_contest/part_002_47416_to_70092.parquet  \n",
            "  inflating: alfabattle2_train_transactions_contest/part_003_70093_to_92989.parquet  \n",
            "  inflating: alfabattle2_train_transactions_contest/part_004_92990_to_115175.parquet  \n",
            "  inflating: alfabattle2_train_transactions_contest/part_005_115176_to_138067.parquet  \n",
            "  inflating: alfabattle2_train_transactions_contest/part_006_138068_to_159724.parquet  \n",
            "  inflating: alfabattle2_train_transactions_contest/part_007_159725_to_180735.parquet  \n",
            "  inflating: alfabattle2_train_transactions_contest/part_008_180736_to_202834.parquet  \n",
            "  inflating: alfabattle2_train_transactions_contest/part_009_202835_to_224283.parquet  \n",
            "  inflating: alfabattle2_train_transactions_contest/part_010_224284_to_245233.parquet  \n",
            "  inflating: alfabattle2_train_transactions_contest/part_011_245234_to_265281.parquet  \n",
            "  inflating: alfabattle2_train_transactions_contest/part_012_265282_to_285632.parquet  \n",
            "  inflating: alfabattle2_train_transactions_contest/part_013_285633_to_306877.parquet  \n",
            "  inflating: alfabattle2_train_transactions_contest/part_014_306878_to_329680.parquet  \n",
            "  inflating: alfabattle2_train_transactions_contest/part_015_329681_to_350977.parquet  \n",
            "  inflating: alfabattle2_train_transactions_contest/part_016_350978_to_372076.parquet  \n",
            "  inflating: alfabattle2_train_transactions_contest/part_017_372077_to_392692.parquet  \n",
            "  inflating: alfabattle2_train_transactions_contest/part_018_392693_to_413981.parquet  \n",
            "  inflating: alfabattle2_train_transactions_contest/part_019_413982_to_434478.parquet  \n",
            "  inflating: alfabattle2_train_transactions_contest/part_020_434479_to_455958.parquet  \n",
            "  inflating: alfabattle2_train_transactions_contest/part_021_455959_to_477221.parquet  \n",
            "  inflating: alfabattle2_train_transactions_contest/part_022_477222_to_496751.parquet  \n",
            "  inflating: alfabattle2_train_transactions_contest/part_023_496752_to_517332.parquet  \n",
            "  inflating: alfabattle2_train_transactions_contest/part_024_517333_to_537036.parquet  \n",
            "  inflating: alfabattle2_train_transactions_contest/part_025_537037_to_557423.parquet  \n",
            "  inflating: alfabattle2_train_transactions_contest/part_026_557424_to_576136.parquet  \n",
            "  inflating: alfabattle2_train_transactions_contest/part_027_576137_to_595745.parquet  \n",
            "  inflating: alfabattle2_train_transactions_contest/part_028_595746_to_615602.parquet  \n",
            "  inflating: alfabattle2_train_transactions_contest/part_029_615603_to_635004.parquet  \n",
            "  inflating: alfabattle2_train_transactions_contest/part_030_635005_to_654605.parquet  \n",
            "  inflating: alfabattle2_train_transactions_contest/part_031_654606_to_673656.parquet  \n",
            "  inflating: alfabattle2_train_transactions_contest/part_032_673657_to_696025.parquet  \n",
            "  inflating: alfabattle2_train_transactions_contest/part_033_696026_to_714545.parquet  \n",
            "  inflating: alfabattle2_train_transactions_contest/part_034_714546_to_733168.parquet  \n",
            "  inflating: alfabattle2_train_transactions_contest/part_035_733169_to_752514.parquet  \n",
            "  inflating: alfabattle2_train_transactions_contest/part_036_752515_to_770940.parquet  \n",
            "  inflating: alfabattle2_train_transactions_contest/part_037_770941_to_788380.parquet  \n",
            "  inflating: alfabattle2_train_transactions_contest/part_038_788381_to_805771.parquet  \n",
            "  inflating: alfabattle2_train_transactions_contest/part_039_805772_to_823299.parquet  \n",
            "  inflating: alfabattle2_train_transactions_contest/part_040_823300_to_841218.parquet  \n",
            "  inflating: alfabattle2_train_transactions_contest/part_041_841219_to_859270.parquet  \n",
            "  inflating: alfabattle2_train_transactions_contest/part_042_859271_to_878521.parquet  \n",
            "  inflating: alfabattle2_train_transactions_contest/part_043_878522_to_896669.parquet  \n",
            "  inflating: alfabattle2_train_transactions_contest/part_044_896670_to_916056.parquet  \n",
            "  inflating: alfabattle2_train_transactions_contest/part_045_916057_to_935131.parquet  \n",
            "  inflating: alfabattle2_train_transactions_contest/part_046_935132_to_951695.parquet  \n",
            "  inflating: alfabattle2_train_transactions_contest/part_047_951696_to_970383.parquet  \n",
            "  inflating: alfabattle2_train_transactions_contest/part_048_970384_to_987313.parquet  \n",
            "  inflating: alfabattle2_train_transactions_contest/part_049_987314_to_1003050.parquet  \n"
          ]
        }
      ]
    },
    {
      "cell_type": "code",
      "source": [
        "final_df = spark.read.parquet('file:///content/alfabattle2_train_transactions_contest/*.parquet')"
      ],
      "metadata": {
        "id": "BYBow2EImq1K"
      },
      "id": "BYBow2EImq1K",
      "execution_count": null,
      "outputs": []
    },
    {
      "cell_type": "code",
      "execution_count": null,
      "id": "8b3a8bab",
      "metadata": {
        "id": "8b3a8bab",
        "outputId": "187a94f4-f1a4-486d-c3dc-4f4d02ce7268",
        "colab": {
          "base_uri": "https://localhost:8080/"
        }
      },
      "outputs": [
        {
          "output_type": "execute_result",
          "data": {
            "text/plain": [
              "270450065"
            ]
          },
          "metadata": {},
          "execution_count": 10
        }
      ],
      "source": [
        "final_df.count()"
      ]
    },
    {
      "cell_type": "code",
      "execution_count": null,
      "id": "5ec20fd8",
      "metadata": {
        "id": "5ec20fd8"
      },
      "outputs": [],
      "source": [
        "df1 = spark.read.format(\"csv\")\\\n",
        "    .option(\"header\",\"True\")\\\n",
        "    .option(\"inferSchema\",\"True\")\\\n",
        "    .load('file:///content/drive/MyDrive/Colab\\ Notebooks/alfabattle2_train_target.csv')"
      ]
    },
    {
      "cell_type": "code",
      "execution_count": null,
      "id": "0f43f398",
      "metadata": {
        "id": "0f43f398",
        "outputId": "ec4e7ebd-4e47-4c46-ae9f-62d7587710e2"
      },
      "outputs": [
        {
          "name": "stdout",
          "output_type": "stream",
          "text": [
            "root\n",
            " |-- app_id: integer (nullable = true)\n",
            " |-- product: integer (nullable = true)\n",
            " |-- flag: integer (nullable = true)\n",
            "\n"
          ]
        }
      ],
      "source": [
        "df1.printSchema()"
      ]
    },
    {
      "cell_type": "code",
      "execution_count": null,
      "id": "4043faa9",
      "metadata": {
        "id": "4043faa9"
      },
      "outputs": [],
      "source": [
        "merge_df=final_df.join(df1,\"app_id\",\"inner\")"
      ]
    },
    {
      "cell_type": "code",
      "execution_count": null,
      "id": "cf0f6ab0",
      "metadata": {
        "id": "cf0f6ab0",
        "outputId": "a0ab3009-398b-4da5-81ca-89d00ae8359a"
      },
      "outputs": [
        {
          "data": {
            "text/plain": [
              "270450065"
            ]
          },
          "execution_count": 53,
          "metadata": {},
          "output_type": "execute_result"
        }
      ],
      "source": [
        "merge_df.count()"
      ]
    },
    {
      "cell_type": "code",
      "execution_count": null,
      "id": "0caceef6",
      "metadata": {
        "id": "0caceef6",
        "outputId": "477d3cdb-a2e1-4ab9-b0a2-6f32542e6f4c"
      },
      "outputs": [
        {
          "data": {
            "text/plain": [
              "['app_id',\n",
              " 'amnt',\n",
              " 'currency',\n",
              " 'operation_kind',\n",
              " 'card_type',\n",
              " 'operation_type',\n",
              " 'operation_type_group',\n",
              " 'ecommerce_flag',\n",
              " 'payment_system',\n",
              " 'income_flag',\n",
              " 'mcc',\n",
              " 'country',\n",
              " 'city',\n",
              " 'mcc_category',\n",
              " 'day_of_week',\n",
              " 'hour',\n",
              " 'days_before',\n",
              " 'weekofyear',\n",
              " 'hour_diff',\n",
              " 'transaction_number',\n",
              " '__index_level_0__',\n",
              " 'app_id',\n",
              " 'product',\n",
              " 'flag']"
            ]
          },
          "execution_count": 36,
          "metadata": {},
          "output_type": "execute_result"
        }
      ],
      "source": [
        "merge_df.columns"
      ]
    },
    {
      "cell_type": "code",
      "execution_count": null,
      "id": "138bf5d7",
      "metadata": {
        "id": "138bf5d7",
        "outputId": "44f66c63-6d31-47b2-8bf2-673680bfc166",
        "colab": {
          "base_uri": "https://localhost:8080/"
        }
      },
      "outputs": [
        {
          "output_type": "stream",
          "name": "stdout",
          "text": [
            "+-------+-------------------+------------------+------------------+------------------+------------------+\n",
            "|summary|               amnt|              hour|       days_before|        weekofyear|         hour_diff|\n",
            "+-------+-------------------+------------------+------------------+------------------+------------------+\n",
            "|  count|          270450065|         270450065|         270450065|         270450065|         270450065|\n",
            "|   mean|0.35886466007912515|14.107251074241747|163.39620992511132|25.617661230734036|26.647970862939154|\n",
            "| stddev|0.09892837081582107| 4.872842067439201|102.62945233643887|14.918086830236431| 88.31970841676157|\n",
            "|    min|                0.0|                 0|                 1|                 1|                -1|\n",
            "|    25%| 0.2929344833513306|                11|                74|                13|                 1|\n",
            "|    50%| 0.3479347025901494|                14|               155|                25|                 5|\n",
            "|    75%| 0.4150715755573277|                18|               249|                38|                21|\n",
            "|    max|                1.0|                23|               359|                53|              8453|\n",
            "+-------+-------------------+------------------+------------------+------------------+------------------+\n",
            "\n"
          ]
        }
      ],
      "source": [
        "merge_df.select('amnt','hour','days_before','weekofyear','hour_diff').summary().show()"
      ]
    },
    {
      "cell_type": "code",
      "source": [
        "for column in merge_df.columns:\n",
        "    print(column,': ',merge_df.select(column).distinct().count())"
      ],
      "metadata": {
        "colab": {
          "base_uri": "https://localhost:8080/"
        },
        "id": "GdzvqAZn5UtY",
        "outputId": "0ecc9e62-79a9-4d78-ea42-c5ff5343fdf4"
      },
      "id": "GdzvqAZn5UtY",
      "execution_count": null,
      "outputs": [
        {
          "output_type": "stream",
          "name": "stdout",
          "text": [
            "app_id :  963811\n",
            "amnt :  3823337\n",
            "currency :  11\n",
            "operation_kind :  7\n",
            "card_type :  173\n",
            "operation_type :  22\n",
            "operation_type_group :  4\n",
            "ecommerce_flag :  3\n",
            "payment_system :  7\n",
            "income_flag :  3\n",
            "mcc :  108\n",
            "country :  24\n",
            "city :  163\n",
            "mcc_category :  28\n",
            "day_of_week :  7\n",
            "hour :  24\n",
            "days_before :  359\n",
            "weekofyear :  53\n",
            "hour_diff :  6345\n",
            "transaction_number :  9580\n",
            "__index_level_0__ :  5573539\n",
            "product :  5\n",
            "flag :  2\n"
          ]
        }
      ]
    },
    {
      "cell_type": "code",
      "execution_count": null,
      "id": "1a32464c",
      "metadata": {
        "id": "1a32464c",
        "outputId": "b30a19d8-8506-48a1-c1ef-e2ceb287b093"
      },
      "outputs": [
        {
          "name": "stdout",
          "output_type": "stream",
          "text": [
            "+--------+\n",
            "|currency|\n",
            "+--------+\n",
            "|       1|\n",
            "|       6|\n",
            "|       3|\n",
            "|       5|\n",
            "|       9|\n",
            "|       4|\n",
            "|       8|\n",
            "|       7|\n",
            "|      10|\n",
            "|      11|\n",
            "|       2|\n",
            "+--------+\n",
            "\n"
          ]
        }
      ],
      "source": [
        "merge_df.select('currency').distinct().show()"
      ]
    },
    {
      "cell_type": "code",
      "execution_count": null,
      "id": "dfa14f87",
      "metadata": {
        "id": "dfa14f87",
        "outputId": "ec25303b-e25d-46af-f459-8cea81cb2949"
      },
      "outputs": [
        {
          "name": "stdout",
          "output_type": "stream",
          "text": [
            "+--------------+\n",
            "|operation_kind|\n",
            "+--------------+\n",
            "|             1|\n",
            "|             6|\n",
            "|             3|\n",
            "|             5|\n",
            "|             4|\n",
            "|             7|\n",
            "|             2|\n",
            "+--------------+\n",
            "\n"
          ]
        }
      ],
      "source": [
        "merge_df.select('operation_kind').distinct().show()"
      ]
    },
    {
      "cell_type": "code",
      "execution_count": null,
      "id": "d5569b75",
      "metadata": {
        "id": "d5569b75",
        "outputId": "989c6aaa-a685-4d4e-8d82-b627fb6c6775"
      },
      "outputs": [
        {
          "data": {
            "text/plain": [
              "173"
            ]
          },
          "execution_count": 55,
          "metadata": {},
          "output_type": "execute_result"
        }
      ],
      "source": [
        "merge_df.select('card_type').distinct().count()"
      ]
    },
    {
      "cell_type": "code",
      "execution_count": null,
      "id": "84b4eb2c",
      "metadata": {
        "id": "84b4eb2c",
        "outputId": "e0aebaa8-c21f-45d9-fab0-efc3709e6ff0"
      },
      "outputs": [
        {
          "name": "stdout",
          "output_type": "stream",
          "text": [
            "root\n",
            " |-- app_id: integer (nullable = true)\n",
            " |-- amnt: double (nullable = true)\n",
            " |-- currency: integer (nullable = true)\n",
            " |-- operation_kind: integer (nullable = true)\n",
            " |-- card_type: integer (nullable = true)\n",
            " |-- operation_type: integer (nullable = true)\n",
            " |-- operation_type_group: integer (nullable = true)\n",
            " |-- ecommerce_flag: integer (nullable = true)\n",
            " |-- payment_system: integer (nullable = true)\n",
            " |-- income_flag: integer (nullable = true)\n",
            " |-- mcc: integer (nullable = true)\n",
            " |-- country: integer (nullable = true)\n",
            " |-- city: integer (nullable = true)\n",
            " |-- mcc_category: integer (nullable = true)\n",
            " |-- day_of_week: integer (nullable = true)\n",
            " |-- hour: integer (nullable = true)\n",
            " |-- days_before: integer (nullable = true)\n",
            " |-- weekofyear: integer (nullable = true)\n",
            " |-- hour_diff: long (nullable = true)\n",
            " |-- transaction_number: integer (nullable = true)\n",
            " |-- __index_level_0__: long (nullable = true)\n",
            " |-- app_id: integer (nullable = true)\n",
            " |-- product: integer (nullable = true)\n",
            " |-- flag: integer (nullable = true)\n",
            "\n"
          ]
        }
      ],
      "source": [
        "merge_df.printSchema()"
      ]
    },
    {
      "cell_type": "code",
      "execution_count": null,
      "id": "8095f691",
      "metadata": {
        "id": "8095f691",
        "outputId": "d3637c08-c28c-4409-fa4c-4add173d46a7"
      },
      "outputs": [
        {
          "data": {
            "text/plain": [
              "22"
            ]
          },
          "execution_count": 59,
          "metadata": {},
          "output_type": "execute_result"
        }
      ],
      "source": [
        "merge_df.select('operation_type').distinct().count()"
      ]
    },
    {
      "cell_type": "code",
      "execution_count": null,
      "id": "e5b83cbc",
      "metadata": {
        "id": "e5b83cbc",
        "outputId": "3c060f42-423f-4e6f-b3d5-db6476bd6119"
      },
      "outputs": [
        {
          "name": "stdout",
          "output_type": "stream",
          "text": [
            "+--------------+\n",
            "|payment_system|\n",
            "+--------------+\n",
            "|             1|\n",
            "|             6|\n",
            "|             3|\n",
            "|             5|\n",
            "|             4|\n",
            "|             7|\n",
            "|             2|\n",
            "+--------------+\n",
            "\n"
          ]
        }
      ],
      "source": [
        "merge_df.select('payment_system').distinct().show()"
      ]
    },
    {
      "cell_type": "code",
      "execution_count": null,
      "id": "25edcc29",
      "metadata": {
        "id": "25edcc29",
        "outputId": "0b09e677-b33e-4b9c-89cc-ecc16d99b6cd"
      },
      "outputs": [
        {
          "data": {
            "text/plain": [
              "28"
            ]
          },
          "execution_count": 63,
          "metadata": {},
          "output_type": "execute_result"
        }
      ],
      "source": [
        "merge_df.select('mcc_category').distinct().count()"
      ]
    }
  ],
  "metadata": {
    "kernelspec": {
      "display_name": "Python 3",
      "language": "python",
      "name": "python3"
    },
    "language_info": {
      "codemirror_mode": {
        "name": "ipython",
        "version": 3
      },
      "file_extension": ".py",
      "mimetype": "text/x-python",
      "name": "python",
      "nbconvert_exporter": "python",
      "pygments_lexer": "ipython3",
      "version": "3.6.9"
    },
    "colab": {
      "provenance": []
    }
  },
  "nbformat": 4,
  "nbformat_minor": 5
}