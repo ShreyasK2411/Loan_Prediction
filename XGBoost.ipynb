{
 "cells": [
  {
   "cell_type": "code",
   "execution_count": 1,
   "metadata": {},
   "outputs": [
    {
     "name": "stdout",
     "output_type": "stream",
     "text": [
      "^C\n"
     ]
    }
   ],
   "source": [
    "!pip uninstall jupyter themes"
   ]
  },
  {
   "cell_type": "code",
   "execution_count": 1,
   "metadata": {
    "colab": {
     "base_uri": "https://localhost:8080/"
    },
    "id": "OARzJemED9j0",
    "outputId": "c64057ed-4349-45b2-b7bf-f8355262703c"
   },
   "outputs": [
    {
     "name": "stdout",
     "output_type": "stream",
     "text": [
      "Looking in indexes: https://pypi.org/simple, https://us-python.pkg.dev/colab-wheels/public/simple/\n",
      "Collecting pyspark\n",
      "  Downloading pyspark-3.3.2.tar.gz (281.4 MB)\n",
      "\u001b[2K     \u001b[90m━━━━━━━━━━━━━━━━━━━━━━━━━━━━━━━━━━━━━━━\u001b[0m \u001b[32m281.4/281.4 MB\u001b[0m \u001b[31m4.9 MB/s\u001b[0m eta \u001b[36m0:00:00\u001b[0m\n",
      "\u001b[?25h  Preparing metadata (setup.py) ... \u001b[?25l\u001b[?25hdone\n",
      "Collecting py4j==0.10.9.5\n",
      "  Downloading py4j-0.10.9.5-py2.py3-none-any.whl (199 kB)\n",
      "\u001b[2K     \u001b[90m━━━━━━━━━━━━━━━━━━━━━━━━━━━━━━━━━━━━━━━\u001b[0m \u001b[32m199.7/199.7 KB\u001b[0m \u001b[31m7.9 MB/s\u001b[0m eta \u001b[36m0:00:00\u001b[0m\n",
      "\u001b[?25hBuilding wheels for collected packages: pyspark\n",
      "  Building wheel for pyspark (setup.py) ... \u001b[?25l\u001b[?25hdone\n",
      "  Created wheel for pyspark: filename=pyspark-3.3.2-py2.py3-none-any.whl size=281824025 sha256=f6f32f33bc455211d34bc5e30b145199e8c3a7b11fe64b47b1e842bce93251cb\n",
      "  Stored in directory: /root/.cache/pip/wheels/6c/e3/9b/0525ce8a69478916513509d43693511463c6468db0de237c86\n",
      "Successfully built pyspark\n",
      "Installing collected packages: py4j, pyspark\n",
      "Successfully installed py4j-0.10.9.5 pyspark-3.3.2\n",
      "Looking in indexes: https://pypi.org/simple, https://us-python.pkg.dev/colab-wheels/public/simple/\n",
      "Requirement already satisfied: xgboost in /usr/local/lib/python3.9/dist-packages (1.7.4)\n",
      "Requirement already satisfied: scipy in /usr/local/lib/python3.9/dist-packages (from xgboost) (1.10.1)\n",
      "Requirement already satisfied: numpy in /usr/local/lib/python3.9/dist-packages (from xgboost) (1.22.4)\n"
     ]
    }
   ],
   "source": [
    "!pip install pyspark\n",
    "!pip install xgboost"
   ]
  },
  {
   "cell_type": "code",
   "execution_count": 2,
   "metadata": {
    "id": "IDaRkwYKETGu"
   },
   "outputs": [],
   "source": [
    "from pyspark.sql import SparkSession\n",
    "spark = (SparkSession.builder.appName(\"XGBoostClassifier\")\\\n",
    "         .getOrCreate()\n",
    ")"
   ]
  },
  {
   "cell_type": "code",
   "execution_count": 3,
   "metadata": {
    "colab": {
     "base_uri": "https://localhost:8080/"
    },
    "id": "SMZ3Kc4aEv8t",
    "outputId": "919db9c4-c7a3-4388-acd3-b1e3324235d0"
   },
   "outputs": [
    {
     "name": "stdout",
     "output_type": "stream",
     "text": [
      "Mounted at /content/drive/\n"
     ]
    }
   ],
   "source": [
    "from google.colab import drive\n",
    "drive.mount('/content/drive/')"
   ]
  },
  {
   "cell_type": "code",
   "execution_count": 4,
   "metadata": {
    "colab": {
     "base_uri": "https://localhost:8080/"
    },
    "id": "KTIQciJKufOL",
    "outputId": "a7192e5c-9b2d-4ecf-f712-97f28389df22"
   },
   "outputs": [
    {
     "name": "stdout",
     "output_type": "stream",
     "text": [
      "Archive:  /content/drive/MyDrive/Colab Notebooks/alfabattle2_train_transactions_contest.zip\n",
      " extracting: alfabattle2_train_transactions_contest/.Rhistory  \n",
      "  inflating: alfabattle2_train_transactions_contest/part_000_0_to_23646.parquet  \n",
      "  inflating: alfabattle2_train_transactions_contest/part_001_23647_to_47415.parquet  \n",
      "  inflating: alfabattle2_train_transactions_contest/part_002_47416_to_70092.parquet  \n",
      "  inflating: alfabattle2_train_transactions_contest/part_003_70093_to_92989.parquet  \n",
      "  inflating: alfabattle2_train_transactions_contest/part_004_92990_to_115175.parquet  \n",
      "  inflating: alfabattle2_train_transactions_contest/part_005_115176_to_138067.parquet  \n",
      "  inflating: alfabattle2_train_transactions_contest/part_006_138068_to_159724.parquet  \n",
      "  inflating: alfabattle2_train_transactions_contest/part_007_159725_to_180735.parquet  \n",
      "  inflating: alfabattle2_train_transactions_contest/part_008_180736_to_202834.parquet  \n",
      "  inflating: alfabattle2_train_transactions_contest/part_009_202835_to_224283.parquet  \n",
      "  inflating: alfabattle2_train_transactions_contest/part_010_224284_to_245233.parquet  \n",
      "  inflating: alfabattle2_train_transactions_contest/part_011_245234_to_265281.parquet  \n",
      "  inflating: alfabattle2_train_transactions_contest/part_012_265282_to_285632.parquet  \n",
      "  inflating: alfabattle2_train_transactions_contest/part_013_285633_to_306877.parquet  \n",
      "  inflating: alfabattle2_train_transactions_contest/part_014_306878_to_329680.parquet  \n",
      "  inflating: alfabattle2_train_transactions_contest/part_015_329681_to_350977.parquet  \n",
      "  inflating: alfabattle2_train_transactions_contest/part_016_350978_to_372076.parquet  \n",
      "  inflating: alfabattle2_train_transactions_contest/part_017_372077_to_392692.parquet  \n",
      "  inflating: alfabattle2_train_transactions_contest/part_018_392693_to_413981.parquet  \n",
      "  inflating: alfabattle2_train_transactions_contest/part_019_413982_to_434478.parquet  \n",
      "  inflating: alfabattle2_train_transactions_contest/part_020_434479_to_455958.parquet  \n",
      "  inflating: alfabattle2_train_transactions_contest/part_021_455959_to_477221.parquet  \n",
      "  inflating: alfabattle2_train_transactions_contest/part_022_477222_to_496751.parquet  \n",
      "  inflating: alfabattle2_train_transactions_contest/part_023_496752_to_517332.parquet  \n",
      "  inflating: alfabattle2_train_transactions_contest/part_024_517333_to_537036.parquet  \n",
      "  inflating: alfabattle2_train_transactions_contest/part_025_537037_to_557423.parquet  \n",
      "  inflating: alfabattle2_train_transactions_contest/part_026_557424_to_576136.parquet  \n",
      "  inflating: alfabattle2_train_transactions_contest/part_027_576137_to_595745.parquet  \n",
      "  inflating: alfabattle2_train_transactions_contest/part_028_595746_to_615602.parquet  \n",
      "  inflating: alfabattle2_train_transactions_contest/part_029_615603_to_635004.parquet  \n",
      "  inflating: alfabattle2_train_transactions_contest/part_030_635005_to_654605.parquet  \n",
      "  inflating: alfabattle2_train_transactions_contest/part_031_654606_to_673656.parquet  \n",
      "  inflating: alfabattle2_train_transactions_contest/part_032_673657_to_696025.parquet  \n",
      "  inflating: alfabattle2_train_transactions_contest/part_033_696026_to_714545.parquet  \n",
      "  inflating: alfabattle2_train_transactions_contest/part_034_714546_to_733168.parquet  \n",
      "  inflating: alfabattle2_train_transactions_contest/part_035_733169_to_752514.parquet  \n",
      "  inflating: alfabattle2_train_transactions_contest/part_036_752515_to_770940.parquet  \n",
      "  inflating: alfabattle2_train_transactions_contest/part_037_770941_to_788380.parquet  \n",
      "  inflating: alfabattle2_train_transactions_contest/part_038_788381_to_805771.parquet  \n",
      "  inflating: alfabattle2_train_transactions_contest/part_039_805772_to_823299.parquet  \n",
      "  inflating: alfabattle2_train_transactions_contest/part_040_823300_to_841218.parquet  \n",
      "  inflating: alfabattle2_train_transactions_contest/part_041_841219_to_859270.parquet  \n",
      "  inflating: alfabattle2_train_transactions_contest/part_042_859271_to_878521.parquet  \n",
      "  inflating: alfabattle2_train_transactions_contest/part_043_878522_to_896669.parquet  \n",
      "  inflating: alfabattle2_train_transactions_contest/part_044_896670_to_916056.parquet  \n",
      "  inflating: alfabattle2_train_transactions_contest/part_045_916057_to_935131.parquet  \n",
      "  inflating: alfabattle2_train_transactions_contest/part_046_935132_to_951695.parquet  \n",
      "  inflating: alfabattle2_train_transactions_contest/part_047_951696_to_970383.parquet  \n",
      "  inflating: alfabattle2_train_transactions_contest/part_048_970384_to_987313.parquet  \n",
      "  inflating: alfabattle2_train_transactions_contest/part_049_987314_to_1003050.parquet  \n"
     ]
    }
   ],
   "source": [
    "!unzip /content/drive/MyDrive/Colab\\ Notebooks/alfabattle2_train_transactions_contest.zip"
   ]
  },
  {
   "cell_type": "code",
   "execution_count": 5,
   "metadata": {
    "id": "mruB3n-glzri"
   },
   "outputs": [],
   "source": [
    "import pyspark\n",
    "from pyspark.sql.types import *\n",
    "from pyspark.sql import functions\n",
    "from pyspark.sql.functions import *\n",
    "from pyspark.ml.feature import VectorAssembler\n",
    "from xgboost.spark import SparkXGBClassifier\n",
    "from pyspark.ml.tuning import ParamGridBuilder\n",
    "from pyspark.ml.tuning import TrainValidationSplit\n",
    "from pyspark.ml.evaluation import MulticlassClassificationEvaluator\n",
    "from pyspark.ml import Pipeline\n",
    "import os\n",
    "\n",
    "def preprocess(df):\n",
    "# getting the numerical columns\n",
    "    cat_columns = []\n",
    "    num_columns = ['amnt','hour','days_before','weekofyear','hour_diff']\n",
    "    for column in df.columns:\n",
    "        if column not in num_columns:\n",
    "            cat_columns.append(column)\n",
    "\n",
    "    cat_columns.remove('app_id')\n",
    "    cat_columns.remove('transaction_number')\n",
    "    cat_columns.remove('__index_level_0__')\n",
    "    # creating a new dataframe\n",
    "    new_df = df.select('app_id').distinct()\n",
    "\n",
    "    # handling the categorical columns\n",
    "    for column in cat_columns:\n",
    "        # grouping by app_id and categorical column & counting the occurences \n",
    "        cnts = df.groupby('app_id',column).count()\n",
    "        \n",
    "        # extracting the maximum count and its app_id \n",
    "        max_cnt = cnts.groupby('app_id').agg(max('count').alias('count'))\n",
    "        \n",
    "        # extracting the frequently occuring value\n",
    "        mode = cnts.join(max_cnt,['app_id','count'],'inner')\\\n",
    "        .select('app_id',column)\\\n",
    "        .withColumnRenamed(column,'mode_'+column)\n",
    "        \n",
    "        # appending the newly created column to the original dataframe\n",
    "        new_df = new_df.join(mode,'app_id','inner')\n",
    "        \n",
    "    # handling numerical columns\n",
    "    for column in num_columns:\n",
    "        # calculating the average of the numerical features\n",
    "        avgs = df.groupby('app_id').agg(mean(column).alias('avg_'+column))\n",
    "        \n",
    "        # appending the column to the dataframe\n",
    "        new_df = new_df.join(avgs,'app_id','inner')\n",
    "    # returning the preprocessed dataframe\n",
    "    return new_df\n",
    "\n",
    "def getData(parquet_path,csv_path):\n",
    "    df = spark.read.parquet(parquet_path)\n",
    "    # applying preprocessig to reduce the data\n",
    "    df = preprocess(df)\n",
    "    # reading the csv file\n",
    "    csv = spark.read.format(\"csv\")\\\n",
    "    .option(\"header\",\"True\")\\\n",
    "    .option(\"inferSchema\",\"True\")\\\n",
    "    .load(csv_path)\n",
    "    # merging the csv and the parquet file\n",
    "    df = df.join(csv,'app_id',\"inner\")\n",
    "    # droping the app_id column\n",
    "    df = df.drop('app_id')\n",
    "    # returning the cleaned data frame\n",
    "    return df\n",
    "\n",
    "def buildPipeline(df):\n",
    "    \"\"\"\n",
    "    This model creates a pipeline and return the pipeline model which can be trained\n",
    "    \"\"\"\n",
    "    # getting the name of the feature columns\n",
    "    features = df.columns[:len(df.columns)-1]\n",
    "    # creating object of VectorAssembler\n",
    "    assemble = VectorAssembler(inputCols=features,outputCol='features')\n",
    "    # creating object of classifier model\n",
    "    classifier = SparkXGBClassifier(seed=7,label_col=\"flag\",\\\n",
    "                                    features_col=\"features\",eval_metric='logloss',\\\n",
    "                                    use_gpu=True,num_workers=1)\n",
    "    STAGES = [assemble,classifier]\n",
    "    # creating an object of Pipeline\n",
    "    pipeline = Pipeline(stages=STAGES)\n",
    "\n",
    "    # Setting the parameter grid for parameter tuning\n",
    "    paramGrid = ParamGridBuilder() \\\n",
    "    .addGrid(classifier.max_depth, [3,5]) \\\n",
    "    .build()\n",
    "\n",
    "    tvs = TrainValidationSplit(\n",
    "    estimator=pipeline,\n",
    "    estimatorParamMaps=paramGrid,\n",
    "    evaluator=MulticlassClassificationEvaluator(labelCol=\"flag\", predictionCol=\"prediction\"),\n",
    "    parallelism=2,\n",
    "    trainRatio=0.7)  # data is separated by 70% and 30%, in which the former is used for training and the latter for evaluation\n",
    "    return tvs"
   ]
  },
  {
   "cell_type": "code",
   "execution_count": 6,
   "metadata": {
    "id": "ZlBtD9IBoABB"
   },
   "outputs": [],
   "source": [
    "parquet_path = \"/content/alfabattle2_train_transactions_contest\"\n",
    "csv_path = \"/content/drive/MyDrive/Colab\\ Notebooks/alfabattle2_train_target.csv\"\n",
    "df = getData(parquet_path,csv_path)"
   ]
  },
  {
   "cell_type": "code",
   "execution_count": 7,
   "metadata": {
    "id": "8d4fQXAGgT6h"
   },
   "outputs": [],
   "source": [
    "split = df.randomSplit([0.7,0.3],seed=7)"
   ]
  },
  {
   "cell_type": "code",
   "execution_count": 8,
   "metadata": {
    "colab": {
     "base_uri": "https://localhost:8080/"
    },
    "id": "S8mAEZ-joGf6",
    "outputId": "34e72688-db18-4a7c-d140-92352f08152f"
   },
   "outputs": [
    {
     "name": "stderr",
     "output_type": "stream",
     "text": [
      "WARNING:SparkXGBClassifier:You enabled use_gpu in spark local mode. Please make sure your local node has at least 1 GPUs\n",
      "WARNING:SparkXGBClassifier:You enabled use_gpu in spark local mode. Please make sure your local node has at least 1 GPUs\n",
      "/usr/local/lib/python3.9/dist-packages/xgboost/sklearn.py:782: UserWarning: Loading a native XGBoost model with Scikit-Learn interface.\n",
      "  warnings.warn(\"Loading a native XGBoost model with Scikit-Learn interface.\")\n",
      "WARNING:SparkXGBClassifier:You enabled use_gpu in spark local mode. Please make sure your local node has at least 1 GPUs\n"
     ]
    }
   ],
   "source": [
    "tvs = buildPipeline(split[0])\n",
    "model = tvs.fit(split[0])"
   ]
  },
  {
   "cell_type": "code",
   "execution_count": 9,
   "metadata": {
    "colab": {
     "base_uri": "https://localhost:8080/"
    },
    "id": "RxPbHGtxPh5h",
    "outputId": "e5ba46bb-dd09-415f-e29b-5e974ab27e02"
   },
   "outputs": [
    {
     "data": {
      "text/plain": [
       "[0.9603831047434316, 0.9615339048541628]"
      ]
     },
     "execution_count": 9,
     "metadata": {},
     "output_type": "execute_result"
    }
   ],
   "source": [
    "model.validationMetrics"
   ]
  },
  {
   "cell_type": "code",
   "execution_count": 16,
   "metadata": {
    "colab": {
     "base_uri": "https://localhost:8080/"
    },
    "id": "3EHMFuj1JUfm",
    "outputId": "a2ce0c5b-7aac-4459-d5c2-1b847248bb02"
   },
   "outputs": [
    {
     "name": "stderr",
     "output_type": "stream",
     "text": [
      "WARNING:SparkXGBClassifierModel:You enabled use_gpu in spark local mode. Please make sure your local node has at least 1 GPUs\n"
     ]
    }
   ],
   "source": [
    "model.bestModel.save('/content/drive/MyDrive/Colab Notebooks/XGBoost1')"
   ]
  },
  {
   "cell_type": "code",
   "execution_count": 14,
   "metadata": {
    "id": "fIGVgWYDKZmK"
   },
   "outputs": [],
   "source": [
    "from pyspark.ml.evaluation import MulticlassClassificationEvaluator\n",
    "\n",
    "# Create both evaluators\n",
    "evaluator = MulticlassClassificationEvaluator(labelCol=\"flag\", predictionCol=\"prediction\")\n",
    "\n",
    "# Make predicitons\n",
    "pred = model.transform(split[1]).select(\"flag\", \"prediction\")\n",
    "\n",
    "# Get metrics\n",
    "acc = evaluator.evaluate(pred, {evaluator.metricName: \"accuracy\"})\n",
    "f1 = evaluator.evaluate(pred, {evaluator.metricName: \"f1\"})\n",
    "weightedPrecision = evaluator.evaluate(pred, {evaluator.metricName: \"weightedPrecision\"})\n",
    "weightedRecall = evaluator.evaluate(pred, {evaluator.metricName: \"weightedRecall\"})"
   ]
  },
  {
   "cell_type": "code",
   "execution_count": 15,
   "metadata": {
    "colab": {
     "base_uri": "https://localhost:8080/"
    },
    "id": "Ep0bvNOHjjVp",
    "outputId": "58068dd3-f0ba-4ef7-b874-eed9133ec8f3"
   },
   "outputs": [
    {
     "name": "stdout",
     "output_type": "stream",
     "text": [
      "Accuracy :  0.9739414562573261\n",
      "F1  :  0.9619379781363544\n",
      "Precision : 0.9740018581452714\n",
      "Recall : 0.9739414562573261\n"
     ]
    }
   ],
   "source": [
    "print('Accuracy : ',acc)\n",
    "print('F1  : ',f1)\n",
    "print('Precision :',weightedPrecision)\n",
    "print('Recall :',weightedRecall)"
   ]
  },
  {
   "cell_type": "code",
   "execution_count": 17,
   "metadata": {
    "id": "ELbnJpHNoYFx"
   },
   "outputs": [],
   "source": [
    "cf = pred.toPandas()"
   ]
  },
  {
   "cell_type": "code",
   "execution_count": 18,
   "metadata": {
    "colab": {
     "base_uri": "https://localhost:8080/",
     "height": 279
    },
    "id": "VTOq8CYsqadV",
    "outputId": "80507ca5-f4c5-455f-f11d-7d71cc2ab34d"
   },
   "outputs": [
    {
     "data": {
      "image/png": "[encoded data removed]",
      "text/plain": [
       "<Figure size 432x288 with 2 Axes>"
      ]
     },
     "metadata": {
      "needs_background": "light"
     },
     "output_type": "display_data"
    }
   ],
   "source": [
    "from sklearn import metrics\n",
    "confusion_matrix = metrics.confusion_matrix(cf.flag, cf.prediction)\n",
    "cm_display = metrics.ConfusionMatrixDisplay(confusion_matrix = confusion_matrix, display_labels = [False, True])\n",
    "import matplotlib.pyplot as plt\n",
    "cm_display.plot()\n",
    "plt.show()"
   ]
  }
 ],
 "metadata": {
  "accelerator": "GPU",
  "colab": {
   "provenance": []
  },
  "gpuClass": "standard",
  "kernelspec": {
   "display_name": "Python 3 (ipykernel)",
   "language": "python",
   "name": "python3"
  },
  "language_info": {
   "codemirror_mode": {
    "name": "ipython",
    "version": 3
   },
   "file_extension": ".py",
   "mimetype": "text/x-python",
   "name": "python",
   "nbconvert_exporter": "python",
   "pygments_lexer": "ipython3",
   "version": "3.10.5"
  }
 },
 "nbformat": 4,
 "nbformat_minor": 1
}
